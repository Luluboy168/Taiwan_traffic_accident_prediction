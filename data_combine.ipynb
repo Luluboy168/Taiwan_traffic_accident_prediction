{
 "cells": [
  {
   "cell_type": "markdown",
   "metadata": {},
   "source": [
    "# Combine data\n"
   ]
  },
  {
   "cell_type": "code",
   "execution_count": 1,
   "metadata": {},
   "outputs": [],
   "source": [
    "import pandas as pd\n",
    "import os"
   ]
  },
  {
   "cell_type": "markdown",
   "metadata": {},
   "source": [
    "### Combine monthly data for each year"
   ]
  },
  {
   "cell_type": "code",
   "execution_count": 2,
   "metadata": {},
   "outputs": [
    {
     "name": "stdout",
     "output_type": "stream",
     "text": [
      "Combined CSV for 108 saved to: raw_data/108/108年度A2交通事故資料.csv\n",
      "Combined CSV for 109 saved to: raw_data/109/109年度A2交通事故資料.csv\n",
      "Combined CSV for 110 saved to: raw_data/110/110年度A2交通事故資料.csv\n",
      "Combined CSV for 111 saved to: raw_data/111/111年度A2交通事故資料.csv\n",
      "Combined CSV for 112 saved to: raw_data/112/112年度A2交通事故資料.csv\n",
      "Combined CSV for 113 saved to: raw_data/113/113年度A2交通事故資料.csv\n"
     ]
    }
   ],
   "source": [
    "years = [108, 109, 110, 111, 112, 113]\n",
    "\n",
    "for year in years:\n",
    "    # Folder path for each year\n",
    "    folder_path = f\"raw_data/{year}\"\n",
    "\n",
    "    # Find all CSV files in that year's folder\n",
    "    csv_files = [f\"{year}年度A2交通事故資料_{i}.csv\" for i in range(1, 13)]\n",
    "\n",
    "    # Read each CSV and store in a list of DataFrames\n",
    "    df_list = []\n",
    "    for file in csv_files:\n",
    "        filename = os.path.join(folder_path, file)\n",
    "        df_temp = pd.read_csv(filename, encoding=\"utf-8\", low_memory=False)\n",
    "        df_list.append(df_temp)\n",
    "\n",
    "    # Combine all monthly DataFrames into one for the year\n",
    "    df_combined = pd.concat(df_list, ignore_index=True)\n",
    "\n",
    "    # Save file\n",
    "    output_filename = f\"raw_data/{year}/{year}年度A2交通事故資料.csv\"\n",
    "    df_combined.to_csv(output_filename, index=False, encoding=\"utf-8-sig\")\n",
    "\n",
    "    print(f\"Combined CSV for {year} saved to: {output_filename}\")"
   ]
  },
  {
   "cell_type": "markdown",
   "metadata": {},
   "source": [
    "### Combine data from different year"
   ]
  },
  {
   "cell_type": "code",
   "execution_count": 3,
   "metadata": {},
   "outputs": [
    {
     "name": "stdout",
     "output_type": "stream",
     "text": [
      "Combined CSV for A1 saved to: raw_data/A1_raw.csv\n",
      "Combined CSV for A2 saved to: raw_data/A2_raw.csv\n"
     ]
    }
   ],
   "source": [
    "years = [108, 109, 110, 111, 112, 113]\n",
    "for i in [1, 2]:\n",
    "    csv_files = [f\"raw_data/{year}/{year}年度A{i}交通事故資料.csv\" for year in range(108, 114)]\n",
    "    df_list = []\n",
    "    for file in csv_files:\n",
    "        df_temp = pd.read_csv(file, encoding=\"utf-8\", low_memory=False)\n",
    "        df_list.append(df_temp)\n",
    "\n",
    "    df_combined = pd.concat(df_list, ignore_index=True)\n",
    "\n",
    "    output_filename = f\"raw_data/A{i}_raw.csv\"\n",
    "    df_combined.to_csv(output_filename, index=False, encoding=\"utf-8-sig\")\n",
    "\n",
    "    print(f\"Combined CSV for A{i} saved to: {output_filename}\")"
   ]
  }
 ],
 "metadata": {
  "kernelspec": {
   "display_name": "Python 3 (ipykernel)",
   "language": "python",
   "name": "python3"
  },
  "language_info": {
   "codemirror_mode": {
    "name": "ipython",
    "version": 3
   },
   "file_extension": ".py",
   "mimetype": "text/x-python",
   "name": "python",
   "nbconvert_exporter": "python",
   "pygments_lexer": "ipython3",
   "version": "3.10.12"
  }
 },
 "nbformat": 4,
 "nbformat_minor": 2
}
