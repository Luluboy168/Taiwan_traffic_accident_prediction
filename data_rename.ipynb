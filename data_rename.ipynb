{
 "cells": [
  {
   "cell_type": "code",
   "execution_count": 1,
   "metadata": {},
   "outputs": [
    {
     "name": "stdout",
     "output_type": "stream",
     "text": [
      "Renamed: 2019年度A1交通事故資料.csv -> 108年度A1交通事故資料.csv\n",
      "Renamed: 2019年度A2交通事故資料_1.csv -> 108年度A2交通事故資料_1.csv\n",
      "Renamed: 2019年度A2交通事故資料_10.csv -> 108年度A2交通事故資料_10.csv\n",
      "Renamed: 2019年度A2交通事故資料_11.csv -> 108年度A2交通事故資料_11.csv\n",
      "Renamed: 2019年度A2交通事故資料_12.csv -> 108年度A2交通事故資料_12.csv\n",
      "Renamed: 2019年度A2交通事故資料_2.csv -> 108年度A2交通事故資料_2.csv\n",
      "Renamed: 2019年度A2交通事故資料_3.csv -> 108年度A2交通事故資料_3.csv\n",
      "Renamed: 2019年度A2交通事故資料_4.csv -> 108年度A2交通事故資料_4.csv\n",
      "Renamed: 2019年度A2交通事故資料_5.csv -> 108年度A2交通事故資料_5.csv\n",
      "Renamed: 2019年度A2交通事故資料_6.csv -> 108年度A2交通事故資料_6.csv\n",
      "Renamed: 2019年度A2交通事故資料_7.csv -> 108年度A2交通事故資料_7.csv\n",
      "Renamed: 2019年度A2交通事故資料_8.csv -> 108年度A2交通事故資料_8.csv\n",
      "Renamed: 2019年度A2交通事故資料_9.csv -> 108年度A2交通事故資料_9.csv\n",
      "Renamed: 2020年度A1交通事故資料.csv -> 109年度A1交通事故資料.csv\n",
      "Renamed: 2020年度A2交通事故資料_1.csv -> 109年度A2交通事故資料_1.csv\n",
      "Renamed: 2020年度A2交通事故資料_10.csv -> 109年度A2交通事故資料_10.csv\n",
      "Renamed: 2020年度A2交通事故資料_11.csv -> 109年度A2交通事故資料_11.csv\n",
      "Renamed: 2020年度A2交通事故資料_12.csv -> 109年度A2交通事故資料_12.csv\n",
      "Renamed: 2020年度A2交通事故資料_2.csv -> 109年度A2交通事故資料_2.csv\n",
      "Renamed: 2020年度A2交通事故資料_3.csv -> 109年度A2交通事故資料_3.csv\n",
      "Renamed: 2020年度A2交通事故資料_4.csv -> 109年度A2交通事故資料_4.csv\n",
      "Renamed: 2020年度A2交通事故資料_5.csv -> 109年度A2交通事故資料_5.csv\n",
      "Renamed: 2020年度A2交通事故資料_6.csv -> 109年度A2交通事故資料_6.csv\n",
      "Renamed: 2020年度A2交通事故資料_7.csv -> 109年度A2交通事故資料_7.csv\n",
      "Renamed: 2020年度A2交通事故資料_8.csv -> 109年度A2交通事故資料_8.csv\n",
      "Renamed: 2020年度A2交通事故資料_9.csv -> 109年度A2交通事故資料_9.csv\n",
      "Renamed: 2021年度A1交通事故資料.csv -> 110年度A1交通事故資料.csv\n",
      "Renamed: 2021年度A2交通事故資料_1.csv -> 110年度A2交通事故資料_1.csv\n",
      "Renamed: 2021年度A2交通事故資料_10.csv -> 110年度A2交通事故資料_10.csv\n",
      "Renamed: 2021年度A2交通事故資料_11.csv -> 110年度A2交通事故資料_11.csv\n",
      "Renamed: 2021年度A2交通事故資料_12.csv -> 110年度A2交通事故資料_12.csv\n",
      "Renamed: 2021年度A2交通事故資料_2.csv -> 110年度A2交通事故資料_2.csv\n",
      "Renamed: 2021年度A2交通事故資料_3.csv -> 110年度A2交通事故資料_3.csv\n",
      "Renamed: 2021年度A2交通事故資料_4.csv -> 110年度A2交通事故資料_4.csv\n",
      "Renamed: 2021年度A2交通事故資料_5.csv -> 110年度A2交通事故資料_5.csv\n",
      "Renamed: 2021年度A2交通事故資料_6.csv -> 110年度A2交通事故資料_6.csv\n",
      "Renamed: 2021年度A2交通事故資料_7.csv -> 110年度A2交通事故資料_7.csv\n",
      "Renamed: 2021年度A2交通事故資料_8.csv -> 110年度A2交通事故資料_8.csv\n",
      "Renamed: 2021年度A2交通事故資料_9.csv -> 110年度A2交通事故資料_9.csv\n"
     ]
    }
   ],
   "source": [
    "# 統一格式\n",
    "import os\n",
    "\n",
    "for year in [108, 109, 110]:\n",
    "    directory = f\"raw_data/{year}\"\n",
    "\n",
    "    for filename in os.listdir(directory):\n",
    "        if filename.startswith(f\"{year + 1911}\"):\n",
    "            new_filename = filename.replace(f\"{year + 1911}\", str(year), 1)\n",
    "            old_path = os.path.join(directory, filename)\n",
    "            new_path = os.path.join(directory, new_filename)\n",
    "            os.rename(old_path, new_path)\n",
    "            print(f'Renamed: {filename} -> {new_filename}')\n"
   ]
  }
 ],
 "metadata": {
  "kernelspec": {
   "display_name": "Python 3 (ipykernel)",
   "language": "python",
   "name": "python3"
  }
 },
 "nbformat": 4,
 "nbformat_minor": 2
}
