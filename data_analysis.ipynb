{
 "cells": [
  {
   "cell_type": "code",
   "execution_count": 66,
   "metadata": {},
   "outputs": [],
   "source": [
    "import pandas as pd\n",
    "import pandas as pd\n",
    "import sklearn\n",
    "from sklearn.preprocessing import LabelEncoder"
   ]
  },
  {
   "cell_type": "code",
   "execution_count": 67,
   "metadata": {},
   "outputs": [
    {
     "name": "stderr",
     "output_type": "stream",
     "text": [
      "/tmp/ipykernel_4084/1914569975.py:2: DtypeWarning: Columns (0) have mixed types. Specify dtype option on import or set low_memory=False.\n",
      "  df = pd.read_csv(\"raw_data/112/112年度A2交通事故資料.csv\", encoding=\"utf-8\")\n"
     ]
    }
   ],
   "source": [
    "df = pd.read_csv(\"raw_data/112/112年度A2交通事故資料.csv\", encoding=\"utf-8\", low_memory=False)\n",
    "\n",
    "cols_to_keep = [\n",
    "    \"天候名稱\",\n",
    "    \"光線名稱\",\n",
    "    \"速限-第1當事者\",\n",
    "    \"路面狀況-路面狀態名稱\",\n",
    "    \"號誌-號誌種類名稱\",\n",
    "    \"當事者區分-類別-大類別名稱-車種\",\n",
    "    \"當事者屬-性-別名稱\",\n",
    "    \"當事者事故發生時年齡\",\n",
    "    \"保護裝備名稱\"\n",
    "]\n",
    "df = df[cols_to_keep]\n",
    "\n",
    "df = df.dropna(how='any')\n",
    "\n",
    "df = df[df[\"當事者區分-類別-大類別名稱-車種\"].str.strip() != \"\"]\n",
    "df = df[df[\"當事者屬-性-別名稱\"].str.strip() != \"無人駕駛自動車\"]\n",
    "df = df[df[\"當事者屬-性-別名稱\"].str.strip() != \"肇事逃逸尚未查獲\"]\n",
    "df = df[df[\"當事者屬-性-別名稱\"].str.strip() != \"無或物(動物、堆置物)\"]\n",
    "\n",
    "df.rename(columns={\n",
    "    \"天候名稱\": \"weather\",\n",
    "    \"光線名稱\": \"lighting\",\n",
    "    \"速限-第1當事者\": \"speed_limit\",\n",
    "    \"路面狀況-路面狀態名稱\": \"road_condition\",\n",
    "    \"號誌-號誌種類名稱\": \"traffic_signal\",\n",
    "    \"當事者區分-類別-大類別名稱-車種\": \"vehicle_type\",\n",
    "    \"當事者屬-性-別名稱\": \"gender\",\n",
    "    \"當事者事故發生時年齡\": \"age\",\n",
    "    \"保護裝備名稱\": \"protective_equipment\"\n",
    "}, inplace=True)\n"
   ]
  },
  {
   "cell_type": "markdown",
   "metadata": {},
   "source": [
    "Weather"
   ]
  },
  {
   "cell_type": "code",
   "execution_count": 69,
   "metadata": {},
   "outputs": [
    {
     "name": "stdout",
     "output_type": "stream",
     "text": [
      "Number of unique values in weather: 9\n",
      "Unique values in weather: ['晴' '雨' '陰' '霧或煙' '強風' '風沙' '暴雨' '風' '雪']\n"
     ]
    }
   ],
   "source": [
    "num_unique_values = df[\"weather\"].nunique()\n",
    "print(\"Number of unique values in weather:\", num_unique_values)\n",
    "\n",
    "unique_values = df[\"weather\"].unique()\n",
    "print(\"Unique values in weather:\", unique_values)\n",
    "\n",
    "# mapping = {\n",
    "#     '晴': 0,\n",
    "#     '陰': 1,\n",
    "#     '雨': 2\n",
    "# }\n",
    "\n",
    "# df['weather_numeric'] = df['weather'].map(mapping)\n",
    "\n",
    "# num_unique_values = df[\"weather_numeric\"].nunique()\n",
    "# print(\"Number of unique values in weather_numeric:\", num_unique_values)\n",
    "\n",
    "# unique_values = df[\"weather_numeric\"].unique()\n",
    "# print(\"Unique values in weather_numeric:\", unique_values)"
   ]
  },
  {
   "cell_type": "markdown",
   "metadata": {},
   "source": [
    "Lighting"
   ]
  },
  {
   "cell_type": "code",
   "execution_count": 70,
   "metadata": {},
   "outputs": [
    {
     "name": "stdout",
     "output_type": "stream",
     "text": [
      "Number of unique values in lighting: 7\n",
      "Unique values in lighting: ['夜間(或隧道、地下道、涵洞)有照明' '夜間(或隧道、地下道、涵洞)無照明' '日間自然光線' '晨或暮光' '無照明' '有照明且開啟'\n",
      " '有照明未開啟或故障']\n"
     ]
    }
   ],
   "source": [
    "num_unique_values = df[\"lighting\"].nunique()\n",
    "print(\"Number of unique values in lighting:\", num_unique_values)\n",
    "\n",
    "unique_values = df[\"lighting\"].unique()\n",
    "print(\"Unique values in lighting:\", unique_values)\n",
    "\n",
    "# mapping = {\n",
    "#     '有照明未開啟或故障': 0,\n",
    "#     '無照明': 1,\n",
    "#     '有照明且開啟': 2\n",
    "# }\n",
    "\n",
    "# df['lighting_numeric'] = df['lighting'].map(mapping)\n",
    "\n",
    "# num_unique_values = df[\"lighting_numeric\"].nunique()\n",
    "# print(\"Number of unique values in lighting_numeric:\", num_unique_values)\n",
    "\n",
    "# unique_values = df[\"lighting_numeric\"].unique()\n",
    "# print(\"Unique values in lighting_numeric:\", unique_values)"
   ]
  },
  {
   "cell_type": "markdown",
   "metadata": {},
   "source": [
    "Road condition"
   ]
  },
  {
   "cell_type": "code",
   "execution_count": 71,
   "metadata": {},
   "outputs": [
    {
     "name": "stdout",
     "output_type": "stream",
     "text": [
      "Number of unique values in road_condition: 5\n",
      "Unique values in road_condition: ['乾燥' '濕潤' '冰雪' '泥濘' '油滑']\n"
     ]
    }
   ],
   "source": [
    "num_unique_values = df[\"road_condition\"].nunique()\n",
    "print(\"Number of unique values in road_condition:\", num_unique_values)\n",
    "\n",
    "unique_values = df[\"road_condition\"].unique()\n",
    "print(\"Unique values in road_condition:\", unique_values)\n",
    "\n",
    "# mapping = {\n",
    "#     '乾燥': 0,\n",
    "#     '濕潤': 1,\n",
    "#     '泥濘': 2,\n",
    "#     '油滑': 3,\n",
    "#     '冰雪': 4\n",
    "# }\n",
    "\n",
    "# df['road_condition_numeric'] = df['road_condition'].map(mapping)\n",
    "\n",
    "# num_unique_values = df[\"road_condition_numeric\"].nunique()\n",
    "# print(\"Number of unique values in road_condition_numeric:\", num_unique_values)\n",
    "\n",
    "# unique_values = df[\"road_condition_numeric\"].unique()\n",
    "# print(\"Unique values in road_condition_numeric:\", unique_values)"
   ]
  },
  {
   "cell_type": "markdown",
   "metadata": {},
   "source": [
    "Traffic signal"
   ]
  },
  {
   "cell_type": "code",
   "execution_count": 72,
   "metadata": {},
   "outputs": [
    {
     "name": "stdout",
     "output_type": "stream",
     "text": [
      "Number of unique values in traffic_signal: 4\n",
      "Unique values in traffic_signal: ['無號誌' '行車管制號誌(附設行人專用號誌)' '行車管制號誌' '閃光號誌']\n"
     ]
    }
   ],
   "source": [
    "num_unique_values = df[\"traffic_signal\"].nunique()\n",
    "print(\"Number of unique values in traffic_signal:\", num_unique_values)\n",
    "\n",
    "unique_values = df[\"traffic_signal\"].unique()\n",
    "print(\"Unique values in traffic_signal:\", unique_values)\n",
    "\n",
    "# mapping = {\n",
    "#     '無號誌': 0,\n",
    "#     '閃光號誌': 1,\n",
    "#     '行車管制號誌(附設行人專用號誌)': 2,\n",
    "#     '行車管制號誌': 3\n",
    "# }\n",
    "\n",
    "# df['traffic_signal_numeric'] = df['traffic_signal'].map(mapping)\n",
    "\n",
    "# num_unique_values = df[\"traffic_signal_numeric\"].nunique()\n",
    "# print(\"Number of unique values in traffic_signal_numeric:\", num_unique_values)\n",
    "\n",
    "# unique_values = df[\"traffic_signal_numeric\"].unique()\n",
    "# print(\"Unique values in traffic_signal_numeric:\", unique_values)"
   ]
  },
  {
   "cell_type": "code",
   "execution_count": 73,
   "metadata": {},
   "outputs": [
    {
     "name": "stdout",
     "output_type": "stream",
     "text": [
      "Number of unique values in vehicle_type: 14\n",
      "Unique values in vehicle_type: ['機車' '小客車' '人' '慢車' '小貨車(含客、貨兩用)' '大客車' '曳引車' '特種車' '大貨車' '其他車' '半聯結車'\n",
      " '軍車' '全聯結車' '小客車(含客、貨兩用)']\n"
     ]
    }
   ],
   "source": [
    "num_unique_values = df[\"vehicle_type\"].nunique()\n",
    "print(\"Number of unique values in vehicle_type:\", num_unique_values)\n",
    "\n",
    "unique_values = df[\"vehicle_type\"].unique()\n",
    "print(\"Unique values in vehicle_type:\", unique_values)\n",
    "\n",
    "# mapping = {\n",
    "#     \"機車\": 0,\n",
    "#     \"大客車\": 1,\n",
    "#     \"人\": 2,\n",
    "#     \"大貨車\": 3,\n",
    "#     \"小客車(含客、貨兩用)\": 4,\n",
    "#     \"慢車\": 5,\n",
    "#     \"小貨車(含客、貨兩用)\": 6,\n",
    "#     \"全聯結車\": 7,\n",
    "#     \"曳引車\": 8,\n",
    "#     \"半聯結車\": 9,\n",
    "#     \"其他車\": 10,\n",
    "#     \"特種車\": 11,\n",
    "#     \"小貨車\": 12,\n",
    "#     \"軍車\": 13\n",
    "# }\n",
    "\n",
    "# df['vehicle_type_numeric'] = df['vehicle_type'].map(mapping)\n",
    "\n",
    "# num_unique_values = df[\"vehicle_type_numeric\"].nunique()\n",
    "# print(\"Number of unique values in vehicle_type_numeric:\", num_unique_values)\n",
    "\n",
    "# unique_values = df[\"vehicle_type_numeric\"].unique()\n",
    "# print(\"Unique values in vehicle_type_numeric:\", unique_values)"
   ]
  },
  {
   "cell_type": "markdown",
   "metadata": {},
   "source": [
    "Gender"
   ]
  },
  {
   "cell_type": "code",
   "execution_count": 74,
   "metadata": {},
   "outputs": [
    {
     "name": "stdout",
     "output_type": "stream",
     "text": [
      "Number of unique values in gender: 2\n",
      "Unique values in gender: ['女' '男']\n"
     ]
    }
   ],
   "source": [
    "num_unique_values = df[\"gender\"].nunique()\n",
    "print(\"Number of unique values in gender:\", num_unique_values)\n",
    "\n",
    "unique_values = df[\"gender\"].unique()\n",
    "print(\"Unique values in gender:\", unique_values)\n",
    "\n",
    "# mapping = {\n",
    "#     \"男\": 0,\n",
    "#     \"女\": 1\n",
    "# }\n",
    "\n",
    "# df['gender_numeric'] = df['gender'].map(mapping)\n",
    "\n",
    "# num_unique_values = df[\"gender_numeric\"].nunique()\n",
    "# print(\"Number of unique values in gender_numeric:\", num_unique_values)\n",
    "\n",
    "# unique_values = df[\"gender_numeric\"].unique()\n",
    "# print(\"Unique values in gender_numeric:\", unique_values)"
   ]
  },
  {
   "cell_type": "markdown",
   "metadata": {},
   "source": [
    "Protective equipment"
   ]
  },
  {
   "cell_type": "code",
   "execution_count": 75,
   "metadata": {},
   "outputs": [
    {
     "name": "stdout",
     "output_type": "stream",
     "text": [
      "Number of unique values in protective_equipment: 8\n",
      "Unique values in protective_equipment: ['戴安全帽或繫安全帶(使用幼童安全椅)' '不明' '其他(無需使用保護裝備之人)' '未戴案全帽或未繫安全帶(未使用幼童安全椅)'\n",
      " '戴半罩式安全帽' '繫安全帶(使用幼童安全椅)' '戴非半罩式安全帽' '未戴安全帽或未繫安全帶(未使用幼童安全椅)']\n",
      "Number of unique values in protective_equipment_numeric: 6\n",
      "Unique values in protective_equipment_numeric: [nan  3.  4.  2.  1.  0.  5.]\n"
     ]
    }
   ],
   "source": [
    "num_unique_values = df[\"protective_equipment\"].nunique()\n",
    "print(\"Number of unique values in protective_equipment:\", num_unique_values)\n",
    "\n",
    "unique_values = df[\"protective_equipment\"].unique()\n",
    "print(\"Unique values in protective_equipment:\", unique_values)\n",
    "\n",
    "mapping = {\n",
    "    '戴非半罩式安全帽': 0,\n",
    "    '繫安全帶(使用幼童安全椅)': 1,\n",
    "    '戴半罩式安全帽': 2,\n",
    "    '不明': 3,\n",
    "    '其他(無需使用保護裝備之人)': 4,\n",
    "    '未戴安全帽或未繫安全帶(未使用幼童安全椅)': 5\n",
    "}\n",
    "\n",
    "# df = df[df['protective_equipment'].isin(mapping.keys())]\n",
    "df['protective_equipment_numeric'] = df['protective_equipment'].map(mapping)\n",
    "\n",
    "\n",
    "num_unique_values = df[\"protective_equipment_numeric\"].nunique()\n",
    "print(\"Number of unique values in protective_equipment_numeric:\", num_unique_values)\n",
    "\n",
    "unique_values = df[\"protective_equipment_numeric\"].unique()\n",
    "print(\"Unique values in protective_equipment_numeric:\", unique_values)"
   ]
  },
  {
   "cell_type": "code",
   "execution_count": 76,
   "metadata": {},
   "outputs": [],
   "source": [
    "df.to_csv(\"accidents_cleaned.csv\", index=False, encoding=\"utf-8-sig\")"
   ]
  }
 ],
 "metadata": {
  "kernelspec": {
   "display_name": "Python 3 (ipykernel)",
   "language": "python",
   "name": "python3"
  }
 },
 "nbformat": 4,
 "nbformat_minor": 2
}
